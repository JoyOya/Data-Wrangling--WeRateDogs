{
 "cells": [
  {
   "cell_type": "markdown",
   "metadata": {},
   "source": [
    "## Report: act_report\n",
    "* Create a **250-word-minimum written report** called \"act_report.pdf\" or \"act_report.html\" that communicates the insights and displays the visualization(s) produced from your wrangled data. This is to be framed as an external document, like a blog post or magazine article, for example."
   ]
  },
  {
   "cell_type": "code",
   "execution_count": null,
   "metadata": {},
   "outputs": [],
   "source": [
    "act_report\n",
    " This is the visualization report carried out on the WeRateDogs twitter achieve \n",
    "WeRateDogs is an account on twitter where dogs are been rated based on their pictures and so many other activities about a dog.  \n",
    "After cleaning and analyzing the data, I got more insights about some of the trends on most of the dogs that were rated.\n",
    "The visualizations are as follows: \n",
    "The most used source. It turned out to be iPhones. I concluded that, most people use an iPhone mainly because of its camera quality. In addition, of course would want to show off their dogs on twitter, after taking good picture with it. \n",
    "\n",
    " \n",
    "\n",
    "Here is the plot above to show the most used twitter source. It has clearly shown from this bar chart that the iPhone was the most used source. It was used almost 2000 times compared to the other source.\n",
    "\n",
    "\n",
    "The next was the most trending dog breed. This visualization is the top 12 breeds that trended over time.\n",
    " \n",
    "The golden retriever was the most popular breed. Apart from them been so playful and active, they are also very dependable. The kind of dog people love to have as a pet mostly because they are very intelligent, athletic and probably very cute. Most times people use them for rescues, hunting and even for dog sports. \n",
    "The next is the Labrador retriever these dogs are also very intelligent as well, followed by the Pembroke and others.\n",
    "I will be sharing a tweet image of a cute golden retriever dog called Zeke\n",
    "https://twitter.com/dog_rates/status/888804989199671297\n",
    "https://pbs.twimg.com/media/DFWra-3VYAA2piG.jpg\n",
    "\n",
    "\n",
    "This is Zeke. He has a new stick. Very proud of it. Would like you to throw it for him without taking it. 13/10 would do my best \n",
    "\n",
    "\n",
    "\n",
    "\n",
    "\n",
    "\n",
    "\n",
    "\n",
    "\n",
    "I also visualized the stages of the dog.  They were four different dog stages in the data set (doggo,floofer,poppo and pupper). \n",
    " ‘Pupper’ was the most tweeted dog stage in the data set. The next was ‘doggo’, followed by ‘puppo’ and then ‘floofer’.\n",
    "Pupper, are also known as puppies. People would always want to show off their dogs at this stage mainly because they are always very cute and do ridiculous funny things.  \n",
    "\n",
    "https://twitter.com/dog_rates/status/850019790995546112\n",
    "The above link is from our data set for a pupper stage dog below.\n",
    "  \n",
    "Say hello to Boomer. He is a sandy pupper. Having a h*ckin blast. 12/10 would pet passionately.\n",
    "So adorable.\n",
    "                                                                                                                           \n",
    "\n",
    "\n",
    "\n",
    "\n",
    "\n",
    "\n",
    "\n",
    "\n",
    "\n",
    "\n",
    "\n",
    "The next visualization was the names of the dogs. Charlie came out as the most used name for the dogs on the WeRateDogs tweeter account. Form the data gotten for the analysis, many names was not mentioned. This is why you see the ‘None’ value, on the bar chart. Followed by Charlie, then Cooper and others.   \n",
    "Here is a link shared on twitter of a dog-named Charlie. Such a beauty.\n",
    "https://twitter.com/dog_rates/status/856526610513747968/photo/1\n",
    "                                                                                 THIS IS CHARLIE, MARK. HE DID JUST WANT TO SAY HI AFTER ALL. PUPGRADED TO A 14/10. WOULD BE AN HONOR TO FLY WITH\n",
    "The final one was to check the relationship between the retweet counts and favorite count. \n",
    "If you notice from the graph, there is a positive correlation between both counts. The more retweets, the more it becomes one of the favorites hence making it to trend. This is why you see denser spots towards the left hand sides and scattered spots where most tweets are not one of the favorites.\n",
    " \n",
    "\n",
    "\n",
    "\n",
    "\n",
    "\n",
    "\n",
    "\n",
    "\n"
   ]
  }
 ],
 "metadata": {
  "kernelspec": {
   "display_name": "Python 3",
   "language": "python",
   "name": "python3"
  },
  "language_info": {
   "codemirror_mode": {
    "name": "ipython",
    "version": 3
   },
   "file_extension": ".py",
   "mimetype": "text/x-python",
   "name": "python",
   "nbconvert_exporter": "python",
   "pygments_lexer": "ipython3",
   "version": "3.6.3"
  }
 },
 "nbformat": 4,
 "nbformat_minor": 2
}
