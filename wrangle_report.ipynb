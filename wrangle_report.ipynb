{
 "cells": [
  {
   "cell_type": "markdown",
   "metadata": {},
   "source": [
    "## Reporting: wragle_report\n",
    "* Create a **300-600 word written report** called \"wrangle_report.pdf\" or \"wrangle_report.html\" that briefly describes your wrangling efforts. This is to be framed as an internal document."
   ]
  },
  {
   "cell_type": "markdown",
   "metadata": {},
   "source": [
    "# WRANGLE ACT REPORT: On WeRateDogs Twitter Archive \n",
    "This is the wrangle act report of the tweeter act of WeRateDogs.  WeRateDogs is a tweeter account that rates people’s dogs based on their pictures, videos, breeds and names. These ratings where gathered, cleaned, assessed and visualized. \n",
    "Three data source where gathered to achieve this report. This was how the report where gotten\n",
    "1.\t**Gathering of Data**\n",
    "\n",
    "a.\tThe first file I download was the (twitter_archive_enhanced.csv). After I downloaded it, I uploaded it and read the data into a pandas DataFrame.\n",
    "b.\tThe second one was the (image_predictions.tsv).  this file was downloaded programmatically using my request library and URL code that was provide by Udacity\n",
    "c.\tThe third files were, tweet_json.txt and twitter_api.py, which I download from the link provided in my Udacity classroom.\n",
    "After I have gathered these files, I uploaded them in my Jupiter notebook and imported the libraries I will be using for this project.\n",
    "\n",
    "2.\t**Assessing Of Data**\n",
    "\n",
    "After gathering all three pieces of data, I assessed them both visually and programmatically to check for quality and tidiness issues. I then went ahead to  detect and document  eight (8) quality issues and two (2) tidiness issues in the \"Accessing Data\" section in the wrangle_act.ipynb of my Jupiter Notebook\n",
    "Here are some of the quality and tidiness issues I assessed\n",
    "\n",
    "*Quality Issues*\n",
    "1. They were some incorrect datatypes on tweet_id and time stamps\n",
    "2. They were 181 entries in (retweeted_status_id, reweeted_status_user and reweeted_status_timestamp) instead of 2356 entries \n",
    "3. They were 78 entries in (reply_to_status_id and reply_to_user_id) making it to have about 2278 missing entries.\n",
    "4. The expanded_urls had some missing values too. It had just 2297 entries instead of 2356 \n",
    "5. Some of the breeds of the dogs where not properly capitalized in p1, p2 and p3. \n",
    "6. Some of the tweets where retweeted, making must of them not original tweets\n",
    "7. Some of the tweets had missing images \n",
    "8. Both the rating_numerator and rating_denorminator had incorrect ratings\n",
    "9. Some of the tweets in the name column valid name\n",
    "\n",
    "*Tidiness Issues*\n",
    "1. The three different data set had one (1) common column, which is \"tweet_id\"   they all need to be   merged and put in just one dataset.\n",
    "2. There are four different columns for dog names (doggo, floofer, pupper and puppo) and they ought to be put in a single column\n",
    "\n",
    "\n",
    "\n",
    "3.\t**Cleaning of Data**\n",
    "In this part, I first made copies of each of the following data files (twitter_archive_enhanced.csv, image_predictions.tsv and tweet_json.txt) and merge them in single data file called (df_merge)\n",
    "I did this to enable me clean, analyze and visualize them properly. \n",
    "I handle all the issues raised from the quality issue to the tidiness issues. I used this following step by \n",
    "Defining the issue, writing codes to handle the issue, and then testing my codes by running them on my Jupiter notebook to check if it runs properly without errors.\n",
    "The last step was storing my data, analyzing and visualization them.\n",
    "Storing: I stored my initial file as (df_merge as twitter_archive_master.csv)\n",
    "Analyzing: I ran this new stored file (twitter_archive_master) by checking the file using some of this codes (.head(), .info(), .describe()) .\n",
    "Visualizing: I created some tables and used statistical analyzation like bar chat, pie chat to answer some of the questions.\n",
    "\n"
   ]
  },
  {
   "cell_type": "code",
   "execution_count": null,
   "metadata": {},
   "outputs": [],
   "source": []
  }
 ],
 "metadata": {
  "kernelspec": {
   "display_name": "Python 3",
   "language": "python",
   "name": "python3"
  },
  "language_info": {
   "codemirror_mode": {
    "name": "ipython",
    "version": 3
   },
   "file_extension": ".py",
   "mimetype": "text/x-python",
   "name": "python",
   "nbconvert_exporter": "python",
   "pygments_lexer": "ipython3",
   "version": "3.6.3"
  }
 },
 "nbformat": 4,
 "nbformat_minor": 2
}
